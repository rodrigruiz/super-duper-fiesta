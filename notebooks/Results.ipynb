{
 "cells": [
  {
   "cell_type": "code",
   "execution_count": 69,
   "id": "subsequent-garlic",
   "metadata": {},
   "outputs": [],
   "source": [
    "from scipy.integrate import quad\n",
    "import numpy as np\n",
    "import matplotlib.pyplot as plt"
   ]
  },
  {
   "cell_type": "code",
   "execution_count": 8,
   "id": "vulnerable-arrival",
   "metadata": {},
   "outputs": [],
   "source": [
    "def nu_mu_atm(x):\n",
    "    gamma=3.90475384e+00\n",
    "    phi=1.28843143e+07 \n",
    "    return phi * np.power((x), -gamma)"
   ]
  },
  {
   "cell_type": "code",
   "execution_count": 95,
   "id": "owned-bones",
   "metadata": {},
   "outputs": [],
   "source": [
    "def nu_e_atm(x):\n",
    "    gamma=3.59217183e+00\n",
    "    phi=7.45648604e+04 \n",
    "    return phi * np.power((x), -gamma)"
   ]
  },
  {
   "cell_type": "code",
   "execution_count": 10,
   "id": "alpine-proxy",
   "metadata": {},
   "outputs": [],
   "source": [
    "def sigma_nu_cc(x):\n",
    "    return np.piecewise(x, [x < 8, x >= 8], [lambda x : np.exp(-8.26068*10 + x*1.03968), lambda x : np.exp(-8.08147*10 + x*0.812867)])"
   ]
  },
  {
   "cell_type": "code",
   "execution_count": 11,
   "id": "excess-promotion",
   "metadata": {},
   "outputs": [],
   "source": [
    "def sigma_nu_nc(x):\n",
    "    return np.piecewise(x, [x < 8, x >= 8], [lambda x : np.exp(-8.38165*10 + x*1.07417), lambda x : np.exp(-8.18376*10 + x*0.822837)])"
   ]
  },
  {
   "cell_type": "code",
   "execution_count": 12,
   "id": "promotional-berlin",
   "metadata": {},
   "outputs": [],
   "source": [
    "def p_100TeV(x):\n",
    "    phi = 5.46454189\n",
    "    gamma = 0.35567507\n",
    "    return phi * np.power((x), -gamma) "
   ]
  },
  {
   "cell_type": "code",
   "execution_count": 83,
   "id": "prescribed-complaint",
   "metadata": {},
   "outputs": [],
   "source": [
    "def astro_flux(x):\n",
    "    C0 = 3e-18\n",
    "    E0 = 100e3\n",
    "    gamma = 2.53\n",
    "    phi = 1.66/6.0\n",
    "    return C0 * phi * np.power((x/E0), -gamma)"
   ]
  },
  {
   "cell_type": "code",
   "execution_count": 41,
   "id": "white-harvest",
   "metadata": {},
   "outputs": [],
   "source": [
    "def integrand_1_bg(x):\n",
    "    return nu_mu_atm(x)*sigma_nu_nc(np.log10(x))*p_100TeV(x)"
   ]
  },
  {
   "cell_type": "code",
   "execution_count": 42,
   "id": "precise-firewall",
   "metadata": {},
   "outputs": [],
   "source": [
    "def integrand_2_bg(x):\n",
    "    return nu_e_atm(x)*sigma_nu_cc(np.log10(x))"
   ]
  },
  {
   "cell_type": "code",
   "execution_count": 43,
   "id": "primary-attraction",
   "metadata": {},
   "outputs": [],
   "source": [
    "def integrand_1_sg(x):\n",
    "    return astro_flux(x)*sigma_nu_nc(np.log10(x))*p_100TeV(x)"
   ]
  },
  {
   "cell_type": "code",
   "execution_count": 44,
   "id": "encouraging-active",
   "metadata": {},
   "outputs": [],
   "source": [
    "def integrand_2_sg(x):\n",
    "    return astro_flux(x)*sigma_nu_cc(np.log10(x))"
   ]
  },
  {
   "cell_type": "code",
   "execution_count": 77,
   "id": "accessible-native",
   "metadata": {},
   "outputs": [],
   "source": [
    "log_Emin = 5.0\n",
    "log_Emax = 12.0\n",
    "nPoints = 2000\n",
    "step=(log_Emax-log_Emin)/nPoints\n",
    "logE=np.arange(log_Emin, log_Emax, step)\n",
    "E = np.power(10,logE)"
   ]
  },
  {
   "cell_type": "code",
   "execution_count": 81,
   "id": "statistical-material",
   "metadata": {},
   "outputs": [
    {
     "data": {
      "text/plain": [
       "<matplotlib.legend.Legend at 0x7f32f90554f0>"
      ]
     },
     "execution_count": 81,
     "metadata": {},
     "output_type": "execute_result"
    },
    {
     "data": {
      "image/png": "[encoded data removed]",
      "text/plain": [
       "<Figure size 432x288 with 1 Axes>"
      ]
     },
     "metadata": {
      "needs_background": "light"
     },
     "output_type": "display_data"
    }
   ],
   "source": [
    "plt.yscale(\"log\")\n",
    "plt.xscale(\"log\")\n",
    "plt.plot(E,integrand_1_bg(E),label=(r\"$\\phi _{atm}(\\nu _{\\mu})\\cdot \\sigma _{NC}\\cdot p(100 TeV)$\"))\n",
    "plt.plot(E,integrand_1_sg(E),label=(r\"$\\phi _{astro}(\\nu _{\\mu})\\cdot \\sigma _{NC}\\cdot p(100 TeV)$\"))\n",
    "plt.legend()"
   ]
  },
  {
   "cell_type": "code",
   "execution_count": 96,
   "id": "little-facial",
   "metadata": {},
   "outputs": [
    {
     "data": {
      "text/plain": [
       "<matplotlib.legend.Legend at 0x7f32f83a6a00>"
      ]
     },
     "execution_count": 96,
     "metadata": {},
     "output_type": "execute_result"
    },
    {
     "data": {
      "image/png": "[encoded data removed]",
      "text/plain": [
       "<Figure size 432x288 with 1 Axes>"
      ]
     },
     "metadata": {
      "needs_background": "light"
     },
     "output_type": "display_data"
    }
   ],
   "source": [
    "plt.yscale(\"log\")\n",
    "plt.xscale(\"log\")\n",
    "emin = 9e4\n",
    "emax = 1.1e5\n",
    "n = 1000\n",
    "step = (emax-emin)/n\n",
    "en = np.arange(emin,emax,step)\n",
    "plt.plot(en,integrand_2_bg(en),label=(r\"$\\phi _{atm}(\\nu _{e})\\cdot \\sigma _{CC}$\"))\n",
    "plt.plot(en,integrand_2_sg(en),label=(r\"$\\phi _{astro}(\\nu _{e})\\cdot \\sigma _{CC}$\"))\n",
    "plt.legend()"
   ]
  },
  {
   "cell_type": "code",
   "execution_count": 94,
   "id": "embedded-angel",
   "metadata": {},
   "outputs": [],
   "source": [
    "# plt.yscale(\"log\")\n",
    "# plt.xscale(\"log\")\n",
    "# plt.plot(E,nu_mu_atm(E),label=(r\"$\\phi _{atm}(\\nu _{e})\\cdot \\sigma _{CC}$\"))\n",
    "# plt.plot(E,astro_flux(E),label=(r\"$\\phi _{astro}(\\nu _{e})\\cdot \\sigma _{CC}$\"))\n",
    "# plt.legend()"
   ]
  },
  {
   "cell_type": "code",
   "execution_count": 64,
   "id": "usual-swedish",
   "metadata": {},
   "outputs": [],
   "source": [
    "A = quad(integrand_1_bg, 1e5, np.inf)"
   ]
  },
  {
   "cell_type": "code",
   "execution_count": 60,
   "id": "representative-lithuania",
   "metadata": {},
   "outputs": [
    {
     "data": {
      "text/plain": [
       "(3.2051241393912805e-54, 6.355847087920781e-54)"
      ]
     },
     "execution_count": 60,
     "metadata": {},
     "output_type": "execute_result"
    }
   ],
   "source": [
    "A"
   ]
  },
  {
   "cell_type": "code",
   "execution_count": 47,
   "id": "broadband-image",
   "metadata": {},
   "outputs": [],
   "source": [
    "B = quad(integrand_2_bg, 9e4, 1.1e5)"
   ]
  },
  {
   "cell_type": "code",
   "execution_count": 48,
   "id": "experienced-adobe",
   "metadata": {},
   "outputs": [
    {
     "data": {
      "text/plain": [
       "(1.9093684552570855e-43, 2.1198248215193842e-57)"
      ]
     },
     "execution_count": 48,
     "metadata": {},
     "output_type": "execute_result"
    }
   ],
   "source": [
    "B"
   ]
  },
  {
   "cell_type": "code",
   "execution_count": 65,
   "id": "inappropriate-beauty",
   "metadata": {},
   "outputs": [],
   "source": [
    "C = quad(integrand_1_sg, 1e5, np.inf)"
   ]
  },
  {
   "cell_type": "code",
   "execution_count": 66,
   "id": "interpreted-glass",
   "metadata": {},
   "outputs": [
    {
     "data": {
      "text/plain": [
       "(8.917182110687327e-51, 1.6523082180610957e-50)"
      ]
     },
     "execution_count": 66,
     "metadata": {},
     "output_type": "execute_result"
    }
   ],
   "source": [
    "C"
   ]
  },
  {
   "cell_type": "code",
   "execution_count": 56,
   "id": "insured-idaho",
   "metadata": {},
   "outputs": [],
   "source": [
    "D = quad(integrand_2_sg, 9e4, 1.1e5)"
   ]
  },
  {
   "cell_type": "code",
   "execution_count": 57,
   "id": "aging-filter",
   "metadata": {},
   "outputs": [
    {
     "data": {
      "text/plain": [
       "(4.043169464832698e-48, 4.488819832318633e-62)"
      ]
     },
     "execution_count": 57,
     "metadata": {},
     "output_type": "execute_result"
    }
   ],
   "source": [
    "D"
   ]
  },
  {
   "cell_type": "code",
   "execution_count": 63,
   "id": "skilled-student",
   "metadata": {},
   "outputs": [
    {
     "data": {
      "text/plain": [
       "2.1174993004662053e-05"
      ]
     },
     "execution_count": 63,
     "metadata": {},
     "output_type": "execute_result"
    }
   ],
   "source": [
    "(C[0]+D[0])/(A[0]+B[0]+C[0]+D[0])"
   ]
  },
  {
   "cell_type": "code",
   "execution_count": null,
   "id": "complicated-charge",
   "metadata": {},
   "outputs": [],
   "source": []
  }
 ],
 "metadata": {
  "kernelspec": {
   "display_name": "super-duper-fiesta",
   "language": "python",
   "name": "super-duper-fiesta"
  },
  "language_info": {
   "codemirror_mode": {
    "name": "ipython",
    "version": 3
   },
   "file_extension": ".py",
   "mimetype": "text/x-python",
   "name": "python",
   "nbconvert_exporter": "python",
   "pygments_lexer": "ipython3",
   "version": "3.9.1"
  }
 },
 "nbformat": 4,
 "nbformat_minor": 5
}
