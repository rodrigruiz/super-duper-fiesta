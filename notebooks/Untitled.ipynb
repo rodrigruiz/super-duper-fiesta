{
 "cells": [
  {
   "cell_type": "code",
   "execution_count": 78,
   "id": "chubby-saudi",
   "metadata": {},
   "outputs": [],
   "source": [
    "import matplotlib.pyplot as plt\n",
    "import numpy as np\n",
    "from scipy.optimize import curve_fit"
   ]
  },
  {
   "cell_type": "code",
   "execution_count": 3,
   "id": "governing-orbit",
   "metadata": {},
   "outputs": [],
   "source": [
    "atm_neutrino_fluxes = \"./../data/atm_flux.txt\"\n",
    "cross_sections = \"./../data/nu_xs.txt\""
   ]
  },
  {
   "cell_type": "code",
   "execution_count": 37,
   "id": "simple-matthew",
   "metadata": {},
   "outputs": [],
   "source": [
    "def read_flux_file(f):\n",
    "    d={}\n",
    "    log_e, nue, numu, nuebar, numubar = ([] for i in range (5))\n",
    "    File = open(f,\"r\")\n",
    "    lines = File.readlines()\n",
    "    for line in lines:\n",
    "        columns = line.split(' ')\n",
    "        log_e.append(float(columns[0]))\n",
    "        nue.append(float(columns[1]))\n",
    "        numu.append(float(columns[2]))\n",
    "        nuebar.append(float(columns[3]))\n",
    "        numubar.append(float(columns[4]))\n",
    "    d[\"log_E\"]=np.array(log_e)\n",
    "    d[\"E\"]=np.power(10, np.array(log_e))\n",
    "    d[\"nu_e\"]=np.array(nue)\n",
    "    d[\"nu_mu\"]=np.array(numu)\n",
    "    d[\"nu_e_bar\"]=np.array(nuebar)\n",
    "    d[\"nu_mu_bar\"]=np.array(numubar)\n",
    "    File.close()\n",
    "    return d"
   ]
  },
  {
   "cell_type": "code",
   "execution_count": 38,
   "id": "acknowledged-density",
   "metadata": {},
   "outputs": [],
   "source": [
    "def read_xs_file(f):\n",
    "    d={}\n",
    "    log_e, cc_nu, nc_nu, cc_nu_bar, nc_nu_bar = ([] for i in range(5))\n",
    "    File = open(f,\"r\")\n",
    "    lines = File.readlines()\n",
    "    for line in lines:\n",
    "        columns = line.split(' ')\n",
    "        log_e.append(float(columns[0]))\n",
    "        cc_nu.append(float(columns[1]))\n",
    "        nc_nu.append(float(columns[2]))\n",
    "        cc_nu_bar.append(float(columns[3]))\n",
    "        nc_nu_bar.append(float(columns[4]))\n",
    "    d[\"log_E\"]=np.array(log_e)\n",
    "    d[\"E\"]=np.power(10, np.array(log_e))\n",
    "    d[\"cc_nu\"]=np.array(cc_nu)\n",
    "    d[\"nc_nu\"]=np.array(nc_nu)\n",
    "    d[\"cc_nu_bar\"]=np.array(cc_nu_bar)\n",
    "    d[\"nc_nu_bar\"]=np.array(nc_nu_bar)\n",
    "    File.close()\n",
    "    return d"
   ]
  },
  {
   "cell_type": "code",
   "execution_count": 39,
   "id": "respiratory-owner",
   "metadata": {},
   "outputs": [],
   "source": [
    "flux_d = read_flux_file(atm_neutrino_fluxes)"
   ]
  },
  {
   "cell_type": "markdown",
   "id": "british-thumbnail",
   "metadata": {},
   "source": [
    "# Astrophysical neutrino flux\n",
    "\n",
    "We use the astrophysical flux detected by IceCube, as reported in this paper: https://arxiv.org/pdf/2001.09520.pdf\n",
    "\n",
    "There, the simplest parameterisation of the astrophysical neutrino flux is given by the following expression\n",
    "\n",
    "$\\frac{\\Phi _{astro} ^{\\nu + \\bar{\\nu}}(E)}{C_0} = \\phi _{astro}\\cdot \\left(\\frac{E}{E_0}\\right) ^{-\\gamma}$ \n",
    "\n",
    "where $C_0 = 3\\cdot 10^{-18} \\text{GeV} ^{-1} \\cdot \\text{cm} ^{-2}\\cdot \\text{s} ^{-1}\\cdot \\text{sr} ^{-1}$ \n",
    "\n",
    "and $E_0=100 \\text{TeV}$.\n",
    "\n",
    "The values of the spectral index and flux normalisation which best fit the icecube data are $\\gamma = 2.53$ and $\\phi _{astro} = 1.66$.\n",
    "\n",
    "In this fit, it is assumed that every neutrino flavor conttributes equally to the flux."
   ]
  },
  {
   "cell_type": "code",
   "execution_count": 74,
   "id": "eligible-peace",
   "metadata": {},
   "outputs": [],
   "source": [
    "# best fit 2020\n",
    "C0 = 3e-18\n",
    "E0 = 100e3\n",
    "gamma = 2.53\n",
    "phi = 1.66\n",
    "\n",
    "# best fit 2016\n",
    "# C0 = 1e-18\n",
    "# E0 = 100e3\n",
    "# gamma = 2.13\n",
    "# phi = 0.9\n",
    "\n",
    "Phi = lambda x : C0 * phi * np.power((x/E0), -gamma)"
   ]
  },
  {
   "cell_type": "code",
   "execution_count": 75,
   "id": "objective-pricing",
   "metadata": {},
   "outputs": [
    {
     "data": {
      "text/plain": [
       "[<matplotlib.lines.Line2D at 0x7f3ff4c40af0>]"
      ]
     },
     "execution_count": 75,
     "metadata": {},
     "output_type": "execute_result"
    },
    {
     "data": {
      "image/png": "[encoded data removed]",
      "text/plain": [
       "<Figure size 432x288 with 1 Axes>"
      ]
     },
     "metadata": {
      "needs_background": "light"
     },
     "output_type": "display_data"
    }
   ],
   "source": [
    "plt.yscale(\"log\")\n",
    "plt.plot(flux_d[\"log_E\"], Phi(flux_d[\"E\"]))"
   ]
  },
  {
   "cell_type": "code",
   "execution_count": 40,
   "id": "super-station",
   "metadata": {},
   "outputs": [],
   "source": [
    "xs_d = read_xs_file(cross_sections)"
   ]
  },
  {
   "cell_type": "code",
   "execution_count": 76,
   "id": "acknowledged-geometry",
   "metadata": {},
   "outputs": [
    {
     "data": {
      "text/plain": [
       "<matplotlib.legend.Legend at 0x7f3ff4e336a0>"
      ]
     },
     "execution_count": 76,
     "metadata": {},
     "output_type": "execute_result"
    },
    {
     "data": {
      "image/png": "[encoded data removed]",
      "text/plain": [
       "<Figure size 432x288 with 1 Axes>"
      ]
     },
     "metadata": {
      "needs_background": "light"
     },
     "output_type": "display_data"
    }
   ],
   "source": [
    "plt.yscale(\"log\")\n",
    "factor = 1.e-4/(4*np.pi)\n",
    "# plt.plot(flux_d[\"log_E\"],flux_d[\"nu_mu\"]*factor, label=r'$\\nu_{\\mu}$')\n",
    "# plt.plot(flux_d[\"log_E\"],flux_d[\"nu_e\"]*factor, label=r'$\\nu_{e}$')\n",
    "# plt.plot(flux_d[\"log_E\"],flux_d[\"nu_mu_bar\"]*factor, label=r'$\\bar{\\nu}_{\\mu}$')\n",
    "# plt.plot(flux_d[\"log_E\"],flux_d[\"nu_e_bar\"]*factor, label=r'$\\bar{\\nu}_{e}$')\n",
    "plt.plot(flux_d[\"log_E\"],factor*(flux_d[\"nu_mu\"] + flux_d[\"nu_e\"] + flux_d[\"nu_mu_bar\"] + flux_d[\"nu_e_bar\"]), label = 'total atm')\n",
    "\n",
    "plt.plot(flux_d[\"log_E\"], Phi(flux_d[\"E\"]), label='astro')\n",
    "plt.legend()\n",
    "#flux_d[\"nu_mu\"]"
   ]
  },
  {
   "cell_type": "code",
   "execution_count": 77,
   "id": "bronze-junction",
   "metadata": {},
   "outputs": [],
   "source": [
    "def Phi_atm(x, phi_atm, gamma_atm): \n",
    "    return phi_atm * np.power((x), -gamma_atm)    "
   ]
  },
  {
   "cell_type": "code",
   "execution_count": 86,
   "id": "guilty-sacrifice",
   "metadata": {},
   "outputs": [],
   "source": [
    "a,b = curve_fit(Phi_atm, flux_d[\"E\"][800:], flux_d[\"nu_mu\"][800:], maxfev=2000 )"
   ]
  },
  {
   "cell_type": "code",
   "execution_count": 91,
   "id": "close-finance",
   "metadata": {},
   "outputs": [
    {
     "data": {
      "text/plain": [
       "[<matplotlib.lines.Line2D at 0x7f3fd2be65e0>]"
      ]
     },
     "execution_count": 91,
     "metadata": {},
     "output_type": "execute_result"
    },
    {
     "data": {
      "image/png": "[encoded data removed]",
      "text/plain": [
       "<Figure size 432x288 with 1 Axes>"
      ]
     },
     "metadata": {
      "needs_background": "light"
     },
     "output_type": "display_data"
    }
   ],
   "source": [
    "plt.yscale(\"log\")\n",
    "plt.xscale(\"log\")\n",
    "plt.plot(flux_d[\"E\"][800:], Phi_atm(flux_d[\"E\"][800:], a[0], a[1]), label='Fitted function')\n",
    "plt.plot(flux_d[\"E\"],flux_d[\"nu_mu\"], linewidth=3, alpha=0.5, label=\"data\")"
   ]
  },
  {
   "cell_type": "code",
   "execution_count": 92,
   "id": "described-publication",
   "metadata": {},
   "outputs": [],
   "source": [
    "log_Emin = 2.0\n",
    "log_Emax = 12.0\n",
    "nPoints = 2000\n",
    "step=(log_Emax-log_Emin)/nPoints\n",
    "logE=np.arange(log_Emin, log_Emax, step)"
   ]
  },
  {
   "cell_type": "code",
   "execution_count": 98,
   "id": "promotional-penny",
   "metadata": {},
   "outputs": [
    {
     "data": {
      "text/plain": [
       "[<matplotlib.lines.Line2D at 0x7f3fd2525e50>]"
      ]
     },
     "execution_count": 98,
     "metadata": {},
     "output_type": "execute_result"
    },
    {
     "data": {
      "image/png": "[encoded data removed]",
      "text/plain": [
       "<Figure size 432x288 with 1 Axes>"
      ]
     },
     "metadata": {
      "needs_background": "light"
     },
     "output_type": "display_data"
    }
   ],
   "source": [
    "plt.yscale(\"log\")\n",
    "plt.xscale(\"log\")\n",
    "factor = 1.e-4/(4*np.pi)\n",
    "plt.plot(np.power(10,logE)[1000:], factor*Phi_atm(np.power(10,logE)[1000:], a[0], a[1]), label='Fitted function')\n",
    "plt.plot(flux_d[\"E\"],factor*flux_d[\"nu_mu\"], linewidth=3, alpha=0.5, label=\"data\")\n",
    "plt.plot(np.power(10,logE), Phi(np.power(10,logE)), label='astro')"
   ]
  },
  {
   "cell_type": "code",
   "execution_count": 99,
   "id": "awful-pierre",
   "metadata": {},
   "outputs": [
    {
     "data": {
      "text/plain": [
       "1.7906686876912982e-40"
      ]
     },
     "execution_count": 99,
     "metadata": {},
     "output_type": "execute_result"
    }
   ],
   "source": [
    "Phi_atm(np.power(10,12), a[0], a[1])"
   ]
  },
  {
   "cell_type": "code",
   "execution_count": null,
   "id": "disabled-crime",
   "metadata": {},
   "outputs": [],
   "source": []
  }
 ],
 "metadata": {
  "kernelspec": {
   "display_name": "super-duper-fiesta_env",
   "language": "python",
   "name": "super-duper-fiesta_env"
  },
  "language_info": {
   "codemirror_mode": {
    "name": "ipython",
    "version": 3
   },
   "file_extension": ".py",
   "mimetype": "text/x-python",
   "name": "python",
   "nbconvert_exporter": "python",
   "pygments_lexer": "ipython3",
   "version": "3.9.10"
  }
 },
 "nbformat": 4,
 "nbformat_minor": 5
}
