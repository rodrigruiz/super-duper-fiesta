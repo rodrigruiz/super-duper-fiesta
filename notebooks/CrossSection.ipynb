{
 "cells": [
  {
   "cell_type": "code",
   "execution_count": 1,
   "id": "beginning-vector",
   "metadata": {},
   "outputs": [],
   "source": [
    "import matplotlib.pyplot as plt\n",
    "import numpy as np\n",
    "from scipy.optimize import curve_fit"
   ]
  },
  {
   "cell_type": "code",
   "execution_count": 164,
   "id": "imported-jackson",
   "metadata": {},
   "outputs": [],
   "source": [
    "cross_sections = \"./../data/nu_xs_12.txt\""
   ]
  },
  {
   "cell_type": "code",
   "execution_count": 165,
   "id": "realistic-asset",
   "metadata": {},
   "outputs": [],
   "source": [
    "def read_xs_file(f):\n",
    "    d={}\n",
    "    log_e, cc_nu, nc_nu, cc_nu_bar, nc_nu_bar = ([] for i in range(5))\n",
    "    File = open(f,\"r\")\n",
    "    lines = File.readlines()\n",
    "    for line in lines:\n",
    "        columns = line.split(' ')\n",
    "        log_e.append(float(columns[0]))\n",
    "        cc_nu.append(float(columns[1]))\n",
    "        nc_nu.append(float(columns[2]))\n",
    "        cc_nu_bar.append(float(columns[3]))\n",
    "        nc_nu_bar.append(float(columns[4]))\n",
    "    d[\"log_E\"]=np.array(log_e)\n",
    "    d[\"E\"]=np.power(10, np.array(log_e))\n",
    "    d[\"cc_nu\"]=np.array(cc_nu)\n",
    "    d[\"nc_nu\"]=np.array(nc_nu)\n",
    "    d[\"cc_nu_bar\"]=np.array(cc_nu_bar)\n",
    "    d[\"nc_nu_bar\"]=np.array(nc_nu_bar)\n",
    "    File.close()\n",
    "    return d"
   ]
  },
  {
   "cell_type": "code",
   "execution_count": 166,
   "id": "coastal-bracelet",
   "metadata": {},
   "outputs": [],
   "source": [
    "xs=read_xs_file(cross_sections)"
   ]
  },
  {
   "cell_type": "code",
   "execution_count": 203,
   "id": "correct-football",
   "metadata": {},
   "outputs": [],
   "source": [
    "#plt.plot(xs['E'], xs['nc_nu'])"
   ]
  },
  {
   "cell_type": "code",
   "execution_count": 202,
   "id": "special-morgan",
   "metadata": {},
   "outputs": [],
   "source": [
    "# def xs_exp_model(x, a, b): \n",
    "#     return np.exp(a+b*x)"
   ]
  },
  {
   "cell_type": "code",
   "execution_count": 201,
   "id": "based-seating",
   "metadata": {},
   "outputs": [],
   "source": [
    "# a,b = curve_fit(xs_exp_model, np.log10(xs[\"E\"])[950:], xs[\"nc_nu\"][950:], maxfev=20000 )"
   ]
  },
  {
   "cell_type": "code",
   "execution_count": 200,
   "id": "expanded-cause",
   "metadata": {},
   "outputs": [],
   "source": [
    "# # plt.yscale(\"log\")\n",
    "# # plt.xscale(\"log\")\n",
    "\n",
    "# #plt.plot(xs[\"E\"][950:], xs_log(xs[\"E\"][950:], a[0], a[1], a[2]), linewidth=3,label='Fitted log')\n",
    "# plt.plot(np.log10(xs[\"E\"])[950:], xs_exp(np.log10(xs[\"E\"])[950:], c[0], c[1]), linewidth=3,label='Fitted exp')\n",
    "# #plt.plot(xs[\"E\"], xs_log(xs[\"E\"], a[0], a[1], a[2]), label='Fitted function')\n",
    "# #plt.plot(xs[\"E\"][1200:], xs_log(xs[\"E\"][1200:], a[0], a[1], a[2]), label='Fitted function')\n",
    "# plt.plot(np.log10(xs[\"E\"]),xs[\"nc_nu\"], linewidth=3, alpha=0.5, label=\"data\")\n",
    "# plt.legend()"
   ]
  },
  {
   "cell_type": "code",
   "execution_count": 176,
   "id": "iraqi-commissioner",
   "metadata": {},
   "outputs": [
    {
     "data": {
      "text/plain": [
       "2000"
      ]
     },
     "execution_count": 176,
     "metadata": {},
     "output_type": "execute_result"
    }
   ],
   "source": [
    "len(xs['E'])"
   ]
  },
  {
   "cell_type": "code",
   "execution_count": 177,
   "id": "complex-editing",
   "metadata": {},
   "outputs": [],
   "source": [
    "def expo_root(x):\n",
    "    return np.exp(-8.17236*10 + x*0.812287)"
   ]
  },
  {
   "cell_type": "markdown",
   "id": "meaning-lightweight",
   "metadata": {},
   "source": [
    "This function contains the result of fitting to a model. The fit was obtained with ROOT for numu_nc. "
   ]
  },
  {
   "cell_type": "code",
   "execution_count": 204,
   "id": "forward-strike",
   "metadata": {},
   "outputs": [],
   "source": [
    "def expo_composite_nc(x):\n",
    "    return np.piecewise(x, [x < 8, x >= 8], [lambda x : np.exp(-8.38165*10 + x*1.07417), lambda x : np.exp(-8.18376*10 + x*0.822837)])"
   ]
  },
  {
   "cell_type": "code",
   "execution_count": 205,
   "id": "rapid-trick",
   "metadata": {},
   "outputs": [
    {
     "data": {
      "text/plain": [
       "[<matplotlib.lines.Line2D at 0x7f0edd6d57f0>]"
      ]
     },
     "execution_count": 205,
     "metadata": {},
     "output_type": "execute_result"
    },
    {
     "data": {
      "image/png": "[encoded data removed]",
      "text/plain": [
       "<Figure size 432x288 with 1 Axes>"
      ]
     },
     "metadata": {
      "needs_background": "light"
     },
     "output_type": "display_data"
    }
   ],
   "source": [
    "plt.yscale(\"log\")\n",
    "plt.plot(np.log10(xs[\"E\"][650:]), expo_composite_nc(np.log10(xs[\"E\"][650:])), linewidth=3,label='Fitted exp')\n",
    "plt.plot(np.log10(xs[\"E\"]), xs['nc_nu'], linewidth=1,label='Fitted exp')"
   ]
  },
  {
   "cell_type": "code",
   "execution_count": 206,
   "id": "parliamentary-corps",
   "metadata": {},
   "outputs": [],
   "source": [
    "def expo_composite_cc(x):\n",
    "    return np.piecewise(x, [x < 8, x >= 8], [lambda x : np.exp(-8.26068*10 + x*1.03968), lambda x : np.exp(-8.08147*10 + x*0.812867)])"
   ]
  },
  {
   "cell_type": "code",
   "execution_count": 207,
   "id": "obvious-ethnic",
   "metadata": {},
   "outputs": [
    {
     "data": {
      "text/plain": [
       "[<matplotlib.lines.Line2D at 0x7f0eddd248b0>]"
      ]
     },
     "execution_count": 207,
     "metadata": {},
     "output_type": "execute_result"
    },
    {
     "data": {
      "image/png": "[encoded data removed]",
      "text/plain": [
       "<Figure size 432x288 with 1 Axes>"
      ]
     },
     "metadata": {
      "needs_background": "light"
     },
     "output_type": "display_data"
    }
   ],
   "source": [
    "plt.yscale(\"log\")\n",
    "plt.plot(np.log10(xs[\"E\"][650:]), expo_composite_cc(np.log10(xs[\"E\"][650:])), linewidth=3,label='Fitted exp')\n",
    "plt.plot(np.log10(xs[\"E\"]), xs['cc_nu'], linewidth=1,label='Fitted exp')"
   ]
  },
  {
   "cell_type": "code",
   "execution_count": null,
   "id": "south-scott",
   "metadata": {},
   "outputs": [],
   "source": []
  }
 ],
 "metadata": {
  "kernelspec": {
   "display_name": "super-duper-fiesta",
   "language": "python",
   "name": "super-duper-fiesta"
  },
  "language_info": {
   "codemirror_mode": {
    "name": "ipython",
    "version": 3
   },
   "file_extension": ".py",
   "mimetype": "text/x-python",
   "name": "python",
   "nbconvert_exporter": "python",
   "pygments_lexer": "ipython3",
   "version": "3.9.1"
  }
 },
 "nbformat": 4,
 "nbformat_minor": 5
}
